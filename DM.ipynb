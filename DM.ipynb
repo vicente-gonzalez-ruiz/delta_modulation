{
 "cells": [
  {
   "cell_type": "markdown",
   "metadata": {},
   "source": [
    "# Delta Modulation"
   ]
  },
  {
   "cell_type": "markdown",
   "metadata": {},
   "source": [
    "* Employs a first-order predictor\n",
    "  $$\n",
    "  p(s,k) = ap(s,k-1)\n",
    "  $$\n",
    "  so, $P(z) = az^{-1}$, where $z^{-1}$ represents a unit delay.\n",
    "* The quantizer has only 2 levels, and the quantizer step size $\\Delta(k)$ is usually adaptive.\n",
    "* Prediction error signal:\n",
    "  $$\n",
    "  e(k) = s(k) - ap(s,k-1)\n",
    "  $$\n",
    "* Quantizer output:\n",
    "  $$\n",
    "  e_q(k) = \\Delta(k)\\text{sgn}(e(k)) = \\left\\{\n",
    "      \\begin{array}{ll}\n",
    "        +\\Delta(k), & \\mbox{$e(k) \\geq 0$};\\\\\n",
    "        -\\Delta(k), & \\mbox{$e(k) < 0$}.\n",
    "      \\end{array} \\right.\n",
    "  $$\n",
    "* Reconstructed signal:\n",
    "  $$\n",
    "  \\hat{s}(k) = a\\hat{s}(k-1)+e_q(k)\n",
    "  $$\n",
    "* Quantization error (noise):\n",
    "  $$\n",
    "  n_q(k) = e_q(k) - e(k) = \\hat{s}(k) - s(k)\n",
    "  $$\n",
    "* Typically, step size evolves according to the rule:\n",
    "  $$\n",
    "  \\Delta(k) = \\beta\\Delta(k-1)+(1-\\beta)\\Delta_\\text{min}+f(k)\n",
    "  $$\n",
    "  where $\\Delta_\\text{min}$ is the minimum quantizer step size, $0 < \\beta < 1$ is a parameter to be selected, and\n",
    "  $$\n",
    "  f(k) = \\left\\{\n",
    "      \\begin{array}{ll}\n",
    "        (1-\\beta)(\\Delta_\\text{max} - \\Delta_\\text{min}), & \\mbox{if $b(k)=b(k-1)=b(k-2)$}\\\\\n",
    "        0 & \\mbox{otherwise},\n",
    "      \\end{array} \\right.\n",
    "  $$\n",
    "  where\n",
    "  $$\n",
    "  b(k) = \\left\\{\n",
    "      \\begin{array}{ll}\n",
    "        +1, & \\mbox{if $e_q(k) = +\\Delta(k)$}\\\\\n",
    "        -1, & \\mbox{if $e_q(k) = -\\Delta(k)$}.\n",
    "      \\end{array} \\right.\n",
    "  $$\n",
    "  (transmitted bit sequence), and $\\Delta_\\text{max}\\triangleq$ maximum step size."
   ]
  },
  {
   "cell_type": "markdown",
   "metadata": {},
   "source": [
    "http://www.atc-labs.com/acepages/crcchapter.pdf\n",
    "\n"
   ]
  }
 ],
 "metadata": {
  "kernelspec": {
   "display_name": "Python 3",
   "language": "python",
   "name": "python3"
  },
  "language_info": {
   "codemirror_mode": {
    "name": "ipython",
    "version": 3
   },
   "file_extension": ".py",
   "mimetype": "text/x-python",
   "name": "python",
   "nbconvert_exporter": "python",
   "pygments_lexer": "ipython3",
   "version": "3.6.3"
  }
 },
 "nbformat": 4,
 "nbformat_minor": 1
}
