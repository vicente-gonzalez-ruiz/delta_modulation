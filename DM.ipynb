{
 "cells": [
  {
   "cell_type": "markdown",
   "metadata": {},
   "source": [
    "# Delta Modulation [[Jayant, 1974]](https://scholar.google.es/scholar?hl=es&as_sdt=0%2C5&q=%22Digital+coding+of+speech+waveforms%3A+PCM%2C+DPCM%2C+and+DM+quantizers%22&btnG=)"
   ]
  },
  {
   "cell_type": "markdown",
   "metadata": {},
   "source": [
    "## Structure\n",
    "\n",
    "<img src=\"figs/QDPCM.png\\\" width=800>\n",
    "\n",
    "* DM is a lossy DPCM system that employs a first-order predictor\n",
    "\n",
    "  \\begin{equation}\n",
    "    \\hat{\\tilde{s}}[n] = \\tilde{s}[n-1]\n",
    "    \\tag{DM_prediction}\n",
    "  \\end{equation}\n",
    "\n",
    "  and a 1-bit (2-levels) quantizer, whose output is $+1$ if the input is positive and $-1$ if the input is negative.\n",
    "\n",
    "  Subtituting Eq. DM_prediction in Eq. ... we get:\n",
    "  \n",
    "  \\begin{equation}\n",
    "    e[n] = s[n] - \\tilde{s}[n-1].\n",
    "  \\end{equation}\n",
    "  \n",
    "  Substituing this in Eq. ... and considering the 1-bit quantizer, we obtain that:\n",
    "  \n",
    "  \\begin{equation}\n",
    "    \\tilde{e}[n] =\n",
    "      \\left\\{\n",
    "        \\begin{array}{lr}\n",
    "          +1 & \\text{if}~e[n]\\geq 0 \\\\\n",
    "          -1 & \\text{otherwise}\n",
    "        \\end{array}\n",
    "      \\right.\n",
    "  \\end{equation}"
   ]
  },
  {
   "cell_type": "markdown",
   "metadata": {},
   "source": [
    "## Quantizer adaptation\n",
    "\n",
    "* If $\\Delta$ is constant, we have a LDM (Linear Delta Modulator). LDMs can suffer from *slope over distortion* and *granular noise*:\n",
    "\n",
    "<img src=\"figs/distortions.png\\\" width=800>\n",
    "\n",
    "* A solution for LDM is to increment the sampling rate (take more samples per second). This is equivalent to send more than one bit for each input sample.\n",
    "\n",
    "* A better solution is to adapt the step size $\\Delta$ depending on the characteristics of $s$ (ADM = Adaptive DM). A common solution is to observe the output. If:\n",
    "  \n",
    "  \\begin{equation}\n",
    "    \\tilde{e}[n] = \\tilde{e}[n-1]\n",
    "  \\end{equation}\n",
    "    \n",
    "  then, we are in a probable slope overload. Else:\n",
    "  \n",
    "  \\begin{equation}\n",
    "    \\tilde{e}[n] \\neq \\tilde{e}[n-1]\n",
    "  \\end{equation}\n",
    "    \n",
    "  we are in a probable granularity. Usually, in a ADM the step size is controlled by:\n",
    "  \n",
    "  \\begin{equation}\n",
    "    \\Delta^{[n]} = \\Delta^{[n-1]}\\alpha^{e[n]e[n-1]},\n",
    "  \\end{equation}\n",
    "  \n",
    "  where $1\\leq \\alpha \\leq 2$. Notice that, if $\\alpha=1$ then we have a LDM."
   ]
  }
 ],
 "metadata": {
  "kernelspec": {
   "display_name": "Python 3",
   "language": "python",
   "name": "python3"
  },
  "language_info": {
   "codemirror_mode": {
    "name": "ipython",
    "version": 3
   },
   "file_extension": ".py",
   "mimetype": "text/x-python",
   "name": "python",
   "nbconvert_exporter": "python",
   "pygments_lexer": "ipython3",
   "version": "3.6.3"
  }
 },
 "nbformat": 4,
 "nbformat_minor": 1
}
